{
 "cells": [
  {
   "cell_type": "code",
   "execution_count": 1,
   "metadata": {},
   "outputs": [],
   "source": [
    "import pandas as pd\n",
    "import numpy as np\n",
    "import copy as cp"
   ]
  },
  {
   "cell_type": "code",
   "execution_count": 2,
   "metadata": {},
   "outputs": [],
   "source": [
    "def dataDownloader(name):\n",
    "    !curl -o pronto.csv https://data.seattle.gov/api/views/65db-xm6k/rows.csv?accessType=DOWNLOAD\n",
    "    df = pd.read_csv(name)\n",
    "    # print(df.head())\n",
    "    return df"
   ]
  },
  {
   "cell_type": "code",
   "execution_count": 3,
   "metadata": {},
   "outputs": [
    {
     "name": "stderr",
     "output_type": "stream",
     "text": [
      "  % Total    % Received % Xferd  Average Speed   Time    Time     Time  Current\n",
      "                                 Dload  Upload   Total   Spent    Left  Speed\n",
      "\n",
      "  0     0    0     0    0     0      0      0 --:--:-- --:--:-- --:--:--     0\n",
      "100 31897    0 31897    0     0  34408      0 --:--:-- --:--:-- --:--:-- 34371\n",
      "100 1721k    0 1721k    0     0   978k      0 --:--:--  0:00:01 --:--:--  978k\n"
     ]
    },
    {
     "data": {
      "text/html": [
       "<div>\n",
       "<style scoped>\n",
       "    .dataframe tbody tr th:only-of-type {\n",
       "        vertical-align: middle;\n",
       "    }\n",
       "\n",
       "    .dataframe tbody tr th {\n",
       "        vertical-align: top;\n",
       "    }\n",
       "\n",
       "    .dataframe thead th {\n",
       "        text-align: right;\n",
       "    }\n",
       "</style>\n",
       "<table border=\"1\" class=\"dataframe\">\n",
       "  <thead>\n",
       "    <tr style=\"text-align: right;\">\n",
       "      <th></th>\n",
       "      <th>Date</th>\n",
       "      <th>Fremont Bridge East Sidewalk</th>\n",
       "      <th>Fremont Bridge West Sidewalk</th>\n",
       "    </tr>\n",
       "  </thead>\n",
       "  <tbody>\n",
       "    <tr>\n",
       "      <td>0</td>\n",
       "      <td>02/24/2015 02:00:00 AM</td>\n",
       "      <td>3.0</td>\n",
       "      <td>3.0</td>\n",
       "    </tr>\n",
       "    <tr>\n",
       "      <td>1</td>\n",
       "      <td>01/01/2019 12:00:00 AM</td>\n",
       "      <td>0.0</td>\n",
       "      <td>9.0</td>\n",
       "    </tr>\n",
       "    <tr>\n",
       "      <td>2</td>\n",
       "      <td>01/01/2019 01:00:00 AM</td>\n",
       "      <td>2.0</td>\n",
       "      <td>22.0</td>\n",
       "    </tr>\n",
       "    <tr>\n",
       "      <td>3</td>\n",
       "      <td>02/15/2016 12:00:00 AM</td>\n",
       "      <td>3.0</td>\n",
       "      <td>3.0</td>\n",
       "    </tr>\n",
       "    <tr>\n",
       "      <td>4</td>\n",
       "      <td>01/01/2019 02:00:00 AM</td>\n",
       "      <td>1.0</td>\n",
       "      <td>11.0</td>\n",
       "    </tr>\n",
       "  </tbody>\n",
       "</table>\n",
       "</div>"
      ],
      "text/plain": [
       "                     Date  Fremont Bridge East Sidewalk  \\\n",
       "0  02/24/2015 02:00:00 AM                           3.0   \n",
       "1  01/01/2019 12:00:00 AM                           0.0   \n",
       "2  01/01/2019 01:00:00 AM                           2.0   \n",
       "3  02/15/2016 12:00:00 AM                           3.0   \n",
       "4  01/01/2019 02:00:00 AM                           1.0   \n",
       "\n",
       "   Fremont Bridge West Sidewalk  \n",
       "0                           3.0  \n",
       "1                           9.0  \n",
       "2                          22.0  \n",
       "3                           3.0  \n",
       "4                          11.0  "
      ]
     },
     "execution_count": 3,
     "metadata": {},
     "output_type": "execute_result"
    }
   ],
   "source": [
    "dfSet = dataDownloader(\"pronto.csv\")\n",
    "dfOriginal = cp.copy(dfSet)\n",
    "dfSetShort = dfSet[:6]\n",
    "dfSet.head()"
   ]
  },
  {
   "cell_type": "code",
   "execution_count": 4,
   "metadata": {},
   "outputs": [
    {
     "data": {
      "text/html": [
       "<div>\n",
       "<style scoped>\n",
       "    .dataframe tbody tr th:only-of-type {\n",
       "        vertical-align: middle;\n",
       "    }\n",
       "\n",
       "    .dataframe tbody tr th {\n",
       "        vertical-align: top;\n",
       "    }\n",
       "\n",
       "    .dataframe thead th {\n",
       "        text-align: right;\n",
       "    }\n",
       "</style>\n",
       "<table border=\"1\" class=\"dataframe\">\n",
       "  <thead>\n",
       "    <tr style=\"text-align: right;\">\n",
       "      <th></th>\n",
       "      <th>Date</th>\n",
       "      <th>Fremont Bridge East Sidewalk</th>\n",
       "    </tr>\n",
       "  </thead>\n",
       "  <tbody>\n",
       "    <tr>\n",
       "      <td>0</td>\n",
       "      <td>02/24/2015 02:00:00 AM</td>\n",
       "      <td>3.0</td>\n",
       "    </tr>\n",
       "    <tr>\n",
       "      <td>1</td>\n",
       "      <td>01/01/2019 12:00:00 AM</td>\n",
       "      <td>0.0</td>\n",
       "    </tr>\n",
       "    <tr>\n",
       "      <td>2</td>\n",
       "      <td>01/01/2019 01:00:00 AM</td>\n",
       "      <td>2.0</td>\n",
       "    </tr>\n",
       "    <tr>\n",
       "      <td>3</td>\n",
       "      <td>02/15/2016 12:00:00 AM</td>\n",
       "      <td>3.0</td>\n",
       "    </tr>\n",
       "    <tr>\n",
       "      <td>4</td>\n",
       "      <td>01/01/2019 02:00:00 AM</td>\n",
       "      <td>1.0</td>\n",
       "    </tr>\n",
       "  </tbody>\n",
       "</table>\n",
       "</div>"
      ],
      "text/plain": [
       "                     Date  Fremont Bridge East Sidewalk\n",
       "0  02/24/2015 02:00:00 AM                           3.0\n",
       "1  01/01/2019 12:00:00 AM                           0.0\n",
       "2  01/01/2019 01:00:00 AM                           2.0\n",
       "3  02/15/2016 12:00:00 AM                           3.0\n",
       "4  01/01/2019 02:00:00 AM                           1.0"
      ]
     },
     "execution_count": 4,
     "metadata": {},
     "output_type": "execute_result"
    }
   ],
   "source": [
    "dfSetThin = dfSet[[\"Date\",\"Fremont Bridge East Sidewalk\"]]\n",
    "dfSetThin.head()"
   ]
  },
  {
   "cell_type": "code",
   "execution_count": 5,
   "metadata": {},
   "outputs": [
    {
     "data": {
      "text/html": [
       "<div>\n",
       "<style scoped>\n",
       "    .dataframe tbody tr th:only-of-type {\n",
       "        vertical-align: middle;\n",
       "    }\n",
       "\n",
       "    .dataframe tbody tr th {\n",
       "        vertical-align: top;\n",
       "    }\n",
       "\n",
       "    .dataframe thead th {\n",
       "        text-align: right;\n",
       "    }\n",
       "</style>\n",
       "<table border=\"1\" class=\"dataframe\">\n",
       "  <thead>\n",
       "    <tr style=\"text-align: right;\">\n",
       "      <th></th>\n",
       "      <th>Date</th>\n",
       "      <th>Fremont Bridge East Sidewalk</th>\n",
       "      <th>Fremont Bridge West Sidewalk</th>\n",
       "      <th>Total Bicycle Count</th>\n",
       "      <th>Year</th>\n",
       "      <th>month</th>\n",
       "      <th>day</th>\n",
       "      <th>Hour</th>\n",
       "    </tr>\n",
       "  </thead>\n",
       "  <tbody>\n",
       "    <tr>\n",
       "      <td>0</td>\n",
       "      <td>02/24/2015 02:00:00 AM</td>\n",
       "      <td>3.0</td>\n",
       "      <td>3.0</td>\n",
       "      <td>6.0</td>\n",
       "      <td>2015</td>\n",
       "      <td>2</td>\n",
       "      <td>24</td>\n",
       "      <td>2</td>\n",
       "    </tr>\n",
       "    <tr>\n",
       "      <td>1</td>\n",
       "      <td>01/01/2019 12:00:00 AM</td>\n",
       "      <td>0.0</td>\n",
       "      <td>9.0</td>\n",
       "      <td>9.0</td>\n",
       "      <td>2019</td>\n",
       "      <td>1</td>\n",
       "      <td>1</td>\n",
       "      <td>0</td>\n",
       "    </tr>\n",
       "    <tr>\n",
       "      <td>2</td>\n",
       "      <td>01/01/2019 01:00:00 AM</td>\n",
       "      <td>2.0</td>\n",
       "      <td>22.0</td>\n",
       "      <td>24.0</td>\n",
       "      <td>2019</td>\n",
       "      <td>1</td>\n",
       "      <td>1</td>\n",
       "      <td>1</td>\n",
       "    </tr>\n",
       "    <tr>\n",
       "      <td>3</td>\n",
       "      <td>02/15/2016 12:00:00 AM</td>\n",
       "      <td>3.0</td>\n",
       "      <td>3.0</td>\n",
       "      <td>6.0</td>\n",
       "      <td>2016</td>\n",
       "      <td>2</td>\n",
       "      <td>15</td>\n",
       "      <td>0</td>\n",
       "    </tr>\n",
       "    <tr>\n",
       "      <td>4</td>\n",
       "      <td>01/01/2019 02:00:00 AM</td>\n",
       "      <td>1.0</td>\n",
       "      <td>11.0</td>\n",
       "      <td>12.0</td>\n",
       "      <td>2019</td>\n",
       "      <td>1</td>\n",
       "      <td>1</td>\n",
       "      <td>2</td>\n",
       "    </tr>\n",
       "  </tbody>\n",
       "</table>\n",
       "</div>"
      ],
      "text/plain": [
       "                     Date  Fremont Bridge East Sidewalk  \\\n",
       "0  02/24/2015 02:00:00 AM                           3.0   \n",
       "1  01/01/2019 12:00:00 AM                           0.0   \n",
       "2  01/01/2019 01:00:00 AM                           2.0   \n",
       "3  02/15/2016 12:00:00 AM                           3.0   \n",
       "4  01/01/2019 02:00:00 AM                           1.0   \n",
       "\n",
       "   Fremont Bridge West Sidewalk  Total Bicycle Count  Year  month  day  Hour  \n",
       "0                           3.0                  6.0  2015      2   24     2  \n",
       "1                           9.0                  9.0  2019      1    1     0  \n",
       "2                          22.0                 24.0  2019      1    1     1  \n",
       "3                           3.0                  6.0  2016      2   15     0  \n",
       "4                          11.0                 12.0  2019      1    1     2  "
      ]
     },
     "execution_count": 5,
     "metadata": {},
     "output_type": "execute_result"
    }
   ],
   "source": [
    "#dfSet.head()\n",
    "#generate more columns...\n",
    "dfSet[\"Total Bicycle Count\"] = dfSet[\"Fremont Bridge East Sidewalk\"]+dfSet[\"Fremont Bridge West Sidewalk\"]\n",
    "hourTemp = dfSet[\"Date\"]\n",
    "hourTemp = pd.to_datetime(hourTemp)\n",
    "dfSet['Year'] = hourTemp.dt.year\n",
    "dfSet['month'] = hourTemp.dt.month\n",
    "dfSet['day'] = hourTemp.dt.day\n",
    "dfSet['Hour'] = hourTemp.dt.hour\n",
    "dfSet.head()\n"
   ]
  },
  {
   "cell_type": "code",
   "execution_count": 6,
   "metadata": {},
   "outputs": [],
   "source": [
    "dfSet[\"Fremont Bridge East Sidewalk\"] = dfSet[\"Fremont Bridge East Sidewalk\"].fillna(0.0).apply(np.int64)\n",
    "dfSet[\"Fremont Bridge West Sidewalk\"] = dfSet[\"Fremont Bridge West Sidewalk\"].fillna(0.0).apply(np.int64)\n",
    "dfSet[\"Total Bicycle Count\"] = dfSet[\"Total Bicycle Count\"].fillna(0.0).apply(np.int64)\n",
    "dfSet = dfSet.drop(columns=\"Date\")\n",
    "#dfSet.dtypes\n"
   ]
  },
  {
   "cell_type": "code",
   "execution_count": 7,
   "metadata": {},
   "outputs": [],
   "source": [
    "dfOriginal[\"Total Bicycle Count\"] = dfOriginal[\"Fremont Bridge East Sidewalk\"]+dfOriginal[\"Fremont Bridge West Sidewalk\"]\n",
    "hourTemp = dfOriginal[\"Date\"]\n",
    "hourTemp = pd.to_datetime(hourTemp)\n",
    "dfOriginal['Year'] = hourTemp.dt.year\n",
    "#dfOriginal.dtypes"
   ]
  },
  {
   "cell_type": "code",
   "execution_count": 8,
   "metadata": {},
   "outputs": [],
   "source": [
    "def test_create_dataframe(inputDf, listOfColumns):\n",
    "    if len(inputDf.index)< 10:\n",
    "        print(\"inputDf has less than 10 rows.\")\n",
    "        return False\n",
    "    if len(inputDf.columns) != len(listOfColumns):\n",
    "        print(\"inputDf and lostOfColumns not same length.\")\n",
    "        return False\n",
    "    for col in listOfColumns:\n",
    "        if col not in inputDf.columns:\n",
    "            print(\"inputDf and lostOfColumns have diff column.\")\n",
    "            return False\n",
    "    for col in listOfColumns:\n",
    "        ds = inputDf[col]\n",
    "        for i in range(len(ds)-1):\n",
    "            if type(ds[i]) != type(ds[i+1]):\n",
    "                print(\"inputDf has column with diff data type.\")\n",
    "                return False\n",
    "    return True"
   ]
  },
  {
   "cell_type": "code",
   "execution_count": null,
   "metadata": {},
   "outputs": [],
   "source": [
    "\n",
    "    "
   ]
  },
  {
   "cell_type": "code",
   "execution_count": 9,
   "metadata": {},
   "outputs": [
    {
     "name": "stdout",
     "output_type": "stream",
     "text": [
      "inputDf and lostOfColumns have diff column.\n"
     ]
    },
    {
     "data": {
      "text/plain": [
       "False"
      ]
     },
     "execution_count": 9,
     "metadata": {},
     "output_type": "execute_result"
    }
   ],
   "source": [
    "listOfColumns =[\"Fremont Bridge East Sidewak\",\"Fremont Bridge West Sidewalk\",\"Total Bicycle Count\",\"Year\",\"month\",\"day\",\"Hour\"]\n",
    "test_create_dataframe(dfSet, listOfColumns)"
   ]
  },
  {
   "cell_type": "code",
   "execution_count": 10,
   "metadata": {},
   "outputs": [
    {
     "data": {
      "text/plain": [
       "True"
      ]
     },
     "execution_count": 10,
     "metadata": {},
     "output_type": "execute_result"
    }
   ],
   "source": [
    "listOfColumns =[\"Fremont Bridge East Sidewalk\",\"Fremont Bridge West Sidewalk\",\"Total Bicycle Count\",\"Year\",\"month\",\"day\",\"Hour\"]\n",
    "test_create_dataframe(dfSet, listOfColumns)"
   ]
  },
  {
   "cell_type": "code",
   "execution_count": 11,
   "metadata": {},
   "outputs": [
    {
     "name": "stdout",
     "output_type": "stream",
     "text": [
      "inputDf and lostOfColumns not same length.\n"
     ]
    },
    {
     "data": {
      "text/plain": [
       "False"
      ]
     },
     "execution_count": 11,
     "metadata": {},
     "output_type": "execute_result"
    }
   ],
   "source": [
    "listOfColumns =[\"Fremont Bridge East Sidewalk\",\"Fremont Bridge West Sidewalk\",\"Total Bicycle Count\",\"Year\",\"month\",\"day\",\"Hour\"]\n",
    "test_create_dataframe(dfOriginal, listOfColumns)"
   ]
  },
  {
   "cell_type": "code",
   "execution_count": null,
   "metadata": {},
   "outputs": [],
   "source": []
  },
  {
   "cell_type": "code",
   "execution_count": 12,
   "metadata": {},
   "outputs": [
    {
     "name": "stdout",
     "output_type": "stream",
     "text": [
      "inputDf has less than 10 rows.\n"
     ]
    },
    {
     "data": {
      "text/plain": [
       "False"
      ]
     },
     "execution_count": 12,
     "metadata": {},
     "output_type": "execute_result"
    }
   ],
   "source": [
    "listOfColumns =[\"Fremont Bridge East Sidewalk\",\"Fremont Bridge West Sidewalk\",\"Total Bicycle Count\",\"Year\",\"month\",\"day\",\"Hour\"]\n",
    "test_create_dataframe(dfSetShort, listOfColumns)"
   ]
  },
  {
   "cell_type": "code",
   "execution_count": 13,
   "metadata": {},
   "outputs": [
    {
     "name": "stdout",
     "output_type": "stream",
     "text": [
      "inputDf and lostOfColumns not same length.\n"
     ]
    },
    {
     "data": {
      "text/plain": [
       "False"
      ]
     },
     "execution_count": 13,
     "metadata": {},
     "output_type": "execute_result"
    }
   ],
   "source": [
    "listOfColumns =[\"Date\"]\n",
    "test_create_dataframe(dfSetThin, listOfColumns)\n"
   ]
  },
  {
   "cell_type": "code",
   "execution_count": 14,
   "metadata": {},
   "outputs": [
    {
     "name": "stdout",
     "output_type": "stream",
     "text": [
      "inputDf has column with diff data type.\n"
     ]
    },
    {
     "data": {
      "text/plain": [
       "False"
      ]
     },
     "execution_count": 14,
     "metadata": {},
     "output_type": "execute_result"
    }
   ],
   "source": [
    "\n",
    "\n",
    "ds = pd.DataFrame({ \n",
    "    'A': [1, 2, 3, 4, 5,6.6,7,8,9,10,11], \n",
    "    'B': ['a', 'b', 'c', 'd', 'e','h','j','d','z','r','x'], \n",
    "    'C': [1, 734570934423524523455, 2, 2, 5,9, 2.2,14,58,10,11] }) \n",
    "\n",
    "test_create_dataframe(ds, [\"A\",\"B\",\"C\"])"
   ]
  },
  {
   "cell_type": "code",
   "execution_count": 15,
   "metadata": {},
   "outputs": [
    {
     "data": {
      "text/plain": [
       "True"
      ]
     },
     "execution_count": 15,
     "metadata": {},
     "output_type": "execute_result"
    }
   ],
   "source": [
    "ds = pd.DataFrame({ \n",
    "    'A': [1, 2, 3, 4, 5,6.6,7,8,9,10,11], \n",
    "    'B': ['a', 'b', 'c', 'd', 'e','h','j','d','z','r','x'], \n",
    "    'C': [1, 7355, 2, 2, 5,9, 2.2,14,58,10,11] }) \n",
    "\n",
    "test_create_dataframe(ds, [\"A\",\"B\",\"C\"])"
   ]
  },
  {
   "cell_type": "code",
   "execution_count": null,
   "metadata": {},
   "outputs": [],
   "source": []
  },
  {
   "cell_type": "code",
   "execution_count": null,
   "metadata": {},
   "outputs": [],
   "source": []
  },
  {
   "cell_type": "code",
   "execution_count": null,
   "metadata": {},
   "outputs": [],
   "source": []
  },
  {
   "cell_type": "code",
   "execution_count": null,
   "metadata": {},
   "outputs": [],
   "source": []
  },
  {
   "cell_type": "code",
   "execution_count": null,
   "metadata": {},
   "outputs": [],
   "source": []
  },
  {
   "cell_type": "code",
   "execution_count": null,
   "metadata": {},
   "outputs": [],
   "source": []
  }
 ],
 "metadata": {
  "kernelspec": {
   "display_name": "Python 3",
   "language": "python",
   "name": "python3"
  },
  "language_info": {
   "codemirror_mode": {
    "name": "ipython",
    "version": 3
   },
   "file_extension": ".py",
   "mimetype": "text/x-python",
   "name": "python",
   "nbconvert_exporter": "python",
   "pygments_lexer": "ipython3",
   "version": "3.7.3"
  }
 },
 "nbformat": 4,
 "nbformat_minor": 2
}
